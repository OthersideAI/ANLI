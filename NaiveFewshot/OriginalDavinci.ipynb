{
 "cells": [
  {
   "cell_type": "code",
   "execution_count": 3,
   "id": "00403d10",
   "metadata": {},
   "outputs": [],
   "source": [
    "import openai, json, pandas as pd, os\n"
   ]
  },
  {
   "cell_type": "code",
   "execution_count": 4,
   "id": "98ff5834",
   "metadata": {},
   "outputs": [],
   "source": [
    "openai.api_key = os.environ.get('OPENAI_API_KEY')"
   ]
  },
  {
   "cell_type": "code",
   "execution_count": 5,
   "id": "0fbd5a1d",
   "metadata": {},
   "outputs": [],
   "source": [
    "def query(prompt, **kwargs):\n",
    "  \"\"\"\n",
    "  wrapper for the API to save the prompt and the result\n",
    "  \"\"\"\n",
    "  props = {\n",
    "  \"engine\":\"davinci\",\n",
    "  \"temperature\":0,\n",
    "  \"max_tokens\":250,\n",
    "  \"stop\":\"\\n\\n\",\n",
    "  **kwargs\n",
    "  }\n",
    "\n",
    "  r = openai.Completion.create(prompt=prompt, **props)[\"choices\"][0][\"text\"].strip()\n",
    "  return r\n",
    "     \n"
   ]
  },
  {
   "attachments": {},
   "cell_type": "markdown",
   "id": "eb52f56b",
   "metadata": {},
   "source": [
    "Making sure this works"
   ]
  },
  {
   "cell_type": "code",
   "execution_count": 7,
   "id": "2c6e2112",
   "metadata": {},
   "outputs": [
    {
     "data": {
      "text/plain": [
       "'2'"
      ]
     },
     "execution_count": 7,
     "metadata": {},
     "output_type": "execute_result"
    }
   ],
   "source": [
    "query(\"q: what is 1+1?\\na:\", stop=\"\\n\")\n"
   ]
  },
  {
   "attachments": {},
   "cell_type": "markdown",
   "id": "86a80dc0",
   "metadata": {},
   "source": [
    "Let's go and start creating some frew shots from the "
   ]
  },
  {
   "cell_type": "code",
   "execution_count": 10,
   "id": "f428f63a",
   "metadata": {},
   "outputs": [],
   "source": [
    "train = pd.read_json(\"anli_v1.0/R3/train.jsonl\",lines=True)\n"
   ]
  },
  {
   "cell_type": "code",
   "execution_count": 13,
   "id": "9663e34d",
   "metadata": {},
   "outputs": [
    {
     "data": {
      "text/plain": [
       "n    40778\n",
       "e    32292\n",
       "c    27389\n",
       "Name: label, dtype: int64"
      ]
     },
     "execution_count": 13,
     "metadata": {},
     "output_type": "execute_result"
    }
   ],
   "source": [
    "train.label.value_counts()"
   ]
  },
  {
   "cell_type": "code",
   "execution_count": 14,
   "id": "a1d2345d",
   "metadata": {},
   "outputs": [],
   "source": [
    "# will grab 2 random neutral, entailment, and contradiction examples\n",
    "\n",
    "entailment = train[train.label==\"e\"].sample(2)\n",
    "neutral = train[train.label==\"n\"].sample(2)\n",
    "contradiction = train[train.label==\"c\"].sample(2)"
   ]
  },
  {
   "cell_type": "code",
   "execution_count": 24,
   "id": "57f21939",
   "metadata": {},
   "outputs": [],
   "source": [
    "lookupDict = {\n",
    "    'e': 'entailment',\n",
    "    'n': 'neutral',\n",
    "    'c': 'contradiction'\n",
    "}\n",
    "\n",
    "def createExample(row):\n",
    "  return f\"\"\"{{\n",
    "    \"Background\": \"{row.context}\",\n",
    "    \"Claim\": \"{row.hypothesis}\",\n",
    "    \"Relationship\": \"{lookupDict[row.label]}\"\n",
    "}}\"\"\""
   ]
  },
  {
   "cell_type": "code",
   "execution_count": 25,
   "id": "0d1dd341",
   "metadata": {},
   "outputs": [
    {
     "name": "stdout",
     "output_type": "stream",
     "text": [
      "{\n",
      "    \"Background\": \"Luciano Chailly (born Ferrara, January 19, 1920 – died Milan, December 24, 2002) was an Italian composer and arts administrator of French descent. He was the father of harpist Cecilia Chailly, conductor Riccardo Chailly and journalist Floriana Chailly. As a composer, Chailly was best known for his operas, many of which were composed to libretti by Dino Buzzati.\",\n",
      "    \"Claim\": \"Luciano Chailly was born in January\",\n",
      "    \"Relationship\": \"entailment\"\n",
      "}\n",
      "{\n",
      "    \"Background\": \"At least 58 people are now dead as a result of the recent flooding in Yemen, and at least 20,000 in the country have no access to shelter. Five people are also reported missing. The Yemeni government has pledged to send tents to help the homeless. The flooding is caused by the recent heavy rain in Yemen, which came as a shock due to the fact that the country only receives several centimeters of rain per year.\",\n",
      "    \"Claim\": \"Rising water levels in Yemen has resulted in people passing away\",\n",
      "    \"Relationship\": \"entailment\"\n",
      "}\n",
      "{\n",
      "    \"Background\": \"Oil Vials<br>I purchased several vials of perfumed oils. I picked all sweet scents. They were very realistic, and I was quite pleased. I put some on first thing in the morning. My husband complimented me, as did everyone in the office that day.\",\n",
      "    \"Claim\": \"The vials are large.\",\n",
      "    \"Relationship\": \"neutral\"\n",
      "}\n",
      "{\n",
      "    \"Background\": \"How to avoid eviction<br>Make timely payments. The easiest way to avoid eviction is to pay your rent on time. Read your lease to see if there is any grace period (such as three or five days).\",\n",
      "    \"Claim\": \"most leases have grace periods for payment\",\n",
      "    \"Relationship\": \"neutral\"\n",
      "}\n",
      "{\n",
      "    \"Background\": \"The others gave in very soon , and longed to be friends , for now there was no Daisy to pet and cook for them ; no Nan to amuse and doctor them ; and , worst of all , no Mrs. Jo to make home life pleasant and life easy for them .<br>To their great affliction , Mrs. Jo seemed to consider herself one of the offended girls , for she hardly spoke to the outcasts , looked as if she did not see them when she passed , and was always too busy now to attend to their requests .\",\n",
      "    \"Claim\": \"Nan was there to doctor them.\",\n",
      "    \"Relationship\": \"contradiction\"\n",
      "}\n",
      "{\n",
      "    \"Background\": \"I wonder how he expects us to put forward a strong position on these issues if we are not part of the World Trade Organization or if we were not in a position, with meetings like Seattle, where we can pull together different countries from around the world that have a similar position to ours.\",\n",
      "    \"Claim\": \"there were never meetings in Seattle\",\n",
      "    \"Relationship\": \"contradiction\"\n",
      "}\n"
     ]
    },
    {
     "data": {
      "text/plain": [
       "[None, None]"
      ]
     },
     "execution_count": 25,
     "metadata": {},
     "output_type": "execute_result"
    }
   ],
   "source": [
    "[print(createExample(row)) for _, row in entailment.iterrows()]\n",
    "[print(createExample(row)) for _, row in neutral.iterrows()]\n",
    "[print(createExample(row)) for _, row in contradiction.iterrows()]"
   ]
  },
  {
   "attachments": {},
   "cell_type": "markdown",
   "id": "8b23ff04",
   "metadata": {},
   "source": [
    "Let's start by figuring out the inconsistncy bit"
   ]
  },
  {
   "cell_type": "code",
   "execution_count": 44,
   "id": "2b0ca484",
   "metadata": {},
   "outputs": [],
   "source": [
    "example = \"\"\"You are an expert analyst evaluating where claims are contradictions, entailments, or neutral with respect to a background. You are given a claim and a background. You must decide whether the claim is a contradiction, entailment, or neutral with respect to the background. You can use the claim and background.\n",
    "{\n",
    "\"Background\": \"The others gave in very soon , and longed to be friends , for now there was no Daisy to pet and cook for them ; no Nan to amuse and doctor them ; and , worst of all , no Mrs. Jo to make home life pleasant and life easy for them .<br>To their great affliction , Mrs. Jo seemed to consider herself one of the offended girls , for she hardly spoke to the outcasts , looked as if she did not see them when she passed , and was always too busy now to attend to their requests .\",\n",
    "\"Claim\": \"Nan was there to doctor them.\",\n",
    "\"Part of Claim in Background\": \"no Nan to amuse and doctor them\",\n",
    "\"Evaluation\": \"In the claim, Nan is there to doctor them. In the background, it is stated that there is no Nan to doctor them. This is inconsistent.\"\n",
    "\"Verdict\": \"Contradiction\"\n",
    "},\n",
    "{\n",
    "\"Background\": \"How to avoid eviction<br>Make timely payments. The easiest way to avoid eviction is to pay your rent on time. Read your lease to see if there is any grace period (such as three or five days).\",\n",
    "\"Claim\": \"most leases have grace periods for payment\",\n",
    "\"Part of Claim in Background\": \"if there is any grace period (such as three or five days)\",\n",
    "\"Evaluation\": \"In the claim, most leases have grace periods for payment. In the background, it is stated that there may be a grace period of three or five days. They neither contradict nor entail each other so it's neutral.\"\n",
    "\"Vedict\": \"Neutral\"\n",
    "},\n",
    "{\n",
    "\"Background\": \"At least 58 people are now dead as a result of the recent flooding in Yemen, and at least 20,000 in the country have no access to shelter. Five people are also reported missing. The Yemeni government has pledged to send tents to help the homeless. The flooding is caused by the recent heavy rain in Yemen, which came as a shock due to the fact that the country only receives several centimeters of rain per year.\",\n",
    "\"Claim\": \"Rising water levels in Yemen has resulted in people passing away\",\n",
    "\"Part of Claim in Background\": \"At least 58 people are now dead as a result of the recent flooding in Yemen\",\n",
    "\"Evaluation\": \"In the claim, rising water levels in Yemen has resulted in people passing away. In the background, it is stated that at least 58 people are now dead as a result of the recent flooding in Yemen. This entails the claim.\",\n",
    "\"Verdict\": \"Entailment\"\n",
    "},\n",
    "{\n",
    "\"Background\": \"I wonder how he expects us to put forward a strong position on these issues if we are not part of the World Trade Organization or if we were not in a position, with meetings like Seattle, where we can pull together different countries from around the world that have a similar position to ours.\",\n",
    "\"Claim\": \"there were never meetings in Seattle\",\n",
    "\"Part of Claim in Background\": \"with meetings like Seattle\",\n",
    "\"Evaluation\": \"In the claim, there were never meetings in Seattle. In the background, it is stated that there were meetings like Seattle. This is inconsistent.\",\n",
    "\"Verdict\": \"Contradiction\"\n",
    "},\n",
    "{\n",
    "\"Background\": \"Luciano Chailly (born Ferrara, January 19, 1920 – died Milan, December 24, 2002) was an Italian composer and arts administrator of French descent. He was the father of harpist Cecilia Chailly, conductor Riccardo Chailly and journalist Floriana Chailly. As a composer, Chailly was best known for his operas, many of which were composed to libretti by Dino Buzzati.\",\n",
    "\"Claim\": \"Luciano Chailly was born in January\",\n",
    "\"Part of Claim in Background\": \"January 19, 1920\",\n",
    "\"Evaluation\": \"In the claim, Luciano Chailly was born in January. In the background, it is stated that he was born on January 19, 1920. This entails the claim.\",\n",
    "\"Verdict\": \"Entailment\"\n",
    "},\n",
    "{\n",
    "\"Background\": \"Oil Vials<br>I purchased several vials of perfumed oils. I picked all sweet scents. They were very realistic, and I was quite pleased. I put some on first thing in the morning. My husband complimented me, as did everyone in the office that day.\",\n",
    "\"Claim\": \"The vials are large.\",\n",
    "\"Part of Claim in Background\": \"None\",\n",
    "\"Evaluation\": \"In the claim, the vials are large. In the background, there is no mention of the size of the vials. This is neutral.\",\n",
    "\"Verdict\": \"Neutral\"\n",
    "}\n",
    "\"\"\""
   ]
  },
  {
   "cell_type": "code",
   "execution_count": null,
   "id": "e7732768",
   "metadata": {},
   "outputs": [],
   "source": []
  },
  {
   "cell_type": "code",
   "execution_count": 36,
   "id": "1ca1ed44",
   "metadata": {},
   "outputs": [
    {
     "data": {
      "text/plain": [
       "'\"Part of Claim in Background\": None\\n\"Evaluation\": \"In the claim, the vials are large. In the background, there is no mention of the size of the vials. This is neutral.\"\\n\"Verdict\": \"Neutral\"\\n}}'"
      ]
     },
     "execution_count": 36,
     "metadata": {},
     "output_type": "execute_result"
    }
   ],
   "source": [
    "query(example, engine=\"text-davinci-003\")"
   ]
  },
  {
   "cell_type": "code",
   "execution_count": null,
   "id": "af5f1fd4",
   "metadata": {},
   "outputs": [],
   "source": []
  }
 ],
 "metadata": {
  "kernelspec": {
   "display_name": "Python 3 (ipykernel)",
   "language": "python",
   "name": "python3"
  },
  "language_info": {
   "codemirror_mode": {
    "name": "ipython",
    "version": 3
   },
   "file_extension": ".py",
   "mimetype": "text/x-python",
   "name": "python",
   "nbconvert_exporter": "python",
   "pygments_lexer": "ipython3",
   "version": "3.9.12"
  }
 },
 "nbformat": 4,
 "nbformat_minor": 5
}
