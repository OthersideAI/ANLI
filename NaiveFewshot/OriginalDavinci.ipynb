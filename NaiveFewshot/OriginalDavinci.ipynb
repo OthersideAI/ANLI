{
 "cells": [
  {
   "cell_type": "code",
   "execution_count": 3,
   "id": "00403d10",
   "metadata": {},
   "outputs": [],
   "source": [
    "import openai, json, pandas as pd, os\n"
   ]
  },
  {
   "cell_type": "code",
   "execution_count": 4,
   "id": "98ff5834",
   "metadata": {},
   "outputs": [],
   "source": [
    "openai.api_key = os.environ.get('OPENAI_API_KEY')"
   ]
  },
  {
   "cell_type": "code",
   "execution_count": 5,
   "id": "0fbd5a1d",
   "metadata": {},
   "outputs": [],
   "source": [
    "def query(prompt, **kwargs):\n",
    "  \"\"\"\n",
    "  wrapper for the API to save the prompt and the result\n",
    "  \"\"\"\n",
    "  props = {\n",
    "  \"engine\":\"davinci\",\n",
    "  \"temperature\":0,\n",
    "  \"max_tokens\":250,\n",
    "  \"stop\":\"\\n\\n\",\n",
    "  **kwargs\n",
    "  }\n",
    "\n",
    "  r = openai.Completion.create(prompt=prompt, **props)[\"choices\"][0][\"text\"].strip()\n",
    "  return r\n",
    "     \n"
   ]
  },
  {
   "attachments": {},
   "cell_type": "markdown",
   "id": "eb52f56b",
   "metadata": {},
   "source": [
    "Making sure this works"
   ]
  },
  {
   "cell_type": "code",
   "execution_count": 7,
   "id": "2c6e2112",
   "metadata": {},
   "outputs": [
    {
     "data": {
      "text/plain": [
       "'2'"
      ]
     },
     "execution_count": 7,
     "metadata": {},
     "output_type": "execute_result"
    }
   ],
   "source": [
    "query(\"q: what is 1+1?\\na:\", stop=\"\\n\")\n"
   ]
  },
  {
   "attachments": {},
   "cell_type": "markdown",
   "id": "86a80dc0",
   "metadata": {},
   "source": [
    "Let's go and start creating some frew shots from the "
   ]
  },
  {
   "cell_type": "code",
   "execution_count": 10,
   "id": "f428f63a",
   "metadata": {},
   "outputs": [],
   "source": [
    "train = pd.read_json(\"anli_v1.0/R3/train.jsonl\",lines=True)\n"
   ]
  },
  {
   "cell_type": "code",
   "execution_count": 13,
   "id": "9663e34d",
   "metadata": {},
   "outputs": [
    {
     "data": {
      "text/plain": [
       "n    40778\n",
       "e    32292\n",
       "c    27389\n",
       "Name: label, dtype: int64"
      ]
     },
     "execution_count": 13,
     "metadata": {},
     "output_type": "execute_result"
    }
   ],
   "source": [
    "train.label.value_counts()"
   ]
  },
  {
   "cell_type": "code",
   "execution_count": 14,
   "id": "a1d2345d",
   "metadata": {},
   "outputs": [],
   "source": [
    "# will grab 2 random neutral, entailment, and contradiction examples\n",
    "\n",
    "entailment = train[train.label==\"e\"].sample(2)\n",
    "neutral = train[train.label==\"n\"].sample(2)\n",
    "contradiction = train[train.label==\"c\"].sample(2)"
   ]
  },
  {
   "cell_type": "code",
   "execution_count": 24,
   "id": "57f21939",
   "metadata": {},
   "outputs": [],
   "source": [
    "lookupDict = {\n",
    "    'e': 'entailment',\n",
    "    'n': 'neutral',\n",
    "    'c': 'contradiction'\n",
    "}\n",
    "\n",
    "def createExample(row):\n",
    "  return f\"\"\"{{\n",
    "    \"Background\": \"{row.context}\",\n",
    "    \"Claim\": \"{row.hypothesis}\",\n",
    "    \"Relationship\": \"{lookupDict[row.label]}\"\n",
    "}}\"\"\""
   ]
  },
  {
   "cell_type": "code",
   "execution_count": 25,
   "id": "0d1dd341",
   "metadata": {},
   "outputs": [
    {
     "name": "stdout",
     "output_type": "stream",
     "text": [
      "{\n",
      "    \"Background\": \"Luciano Chailly (born Ferrara, January 19, 1920 – died Milan, December 24, 2002) was an Italian composer and arts administrator of French descent. He was the father of harpist Cecilia Chailly, conductor Riccardo Chailly and journalist Floriana Chailly. As a composer, Chailly was best known for his operas, many of which were composed to libretti by Dino Buzzati.\",\n",
      "    \"Claim\": \"Luciano Chailly was born in January\",\n",
      "    \"Relationship\": \"entailment\"\n",
      "}\n",
      "{\n",
      "    \"Background\": \"At least 58 people are now dead as a result of the recent flooding in Yemen, and at least 20,000 in the country have no access to shelter. Five people are also reported missing. The Yemeni government has pledged to send tents to help the homeless. The flooding is caused by the recent heavy rain in Yemen, which came as a shock due to the fact that the country only receives several centimeters of rain per year.\",\n",
      "    \"Claim\": \"Rising water levels in Yemen has resulted in people passing away\",\n",
      "    \"Relationship\": \"entailment\"\n",
      "}\n",
      "{\n",
      "    \"Background\": \"Oil Vials<br>I purchased several vials of perfumed oils. I picked all sweet scents. They were very realistic, and I was quite pleased. I put some on first thing in the morning. My husband complimented me, as did everyone in the office that day.\",\n",
      "    \"Claim\": \"The vials are large.\",\n",
      "    \"Relationship\": \"neutral\"\n",
      "}\n",
      "{\n",
      "    \"Background\": \"How to avoid eviction<br>Make timely payments. The easiest way to avoid eviction is to pay your rent on time. Read your lease to see if there is any grace period (such as three or five days).\",\n",
      "    \"Claim\": \"most leases have grace periods for payment\",\n",
      "    \"Relationship\": \"neutral\"\n",
      "}\n",
      "{\n",
      "    \"Background\": \"The others gave in very soon , and longed to be friends , for now there was no Daisy to pet and cook for them ; no Nan to amuse and doctor them ; and , worst of all , no Mrs. Jo to make home life pleasant and life easy for them .<br>To their great affliction , Mrs. Jo seemed to consider herself one of the offended girls , for she hardly spoke to the outcasts , looked as if she did not see them when she passed , and was always too busy now to attend to their requests .\",\n",
      "    \"Claim\": \"Nan was there to doctor them.\",\n",
      "    \"Relationship\": \"contradiction\"\n",
      "}\n",
      "{\n",
      "    \"Background\": \"I wonder how he expects us to put forward a strong position on these issues if we are not part of the World Trade Organization or if we were not in a position, with meetings like Seattle, where we can pull together different countries from around the world that have a similar position to ours.\",\n",
      "    \"Claim\": \"there were never meetings in Seattle\",\n",
      "    \"Relationship\": \"contradiction\"\n",
      "}\n"
     ]
    },
    {
     "data": {
      "text/plain": [
       "[None, None]"
      ]
     },
     "execution_count": 25,
     "metadata": {},
     "output_type": "execute_result"
    }
   ],
   "source": [
    "[print(createExample(row)) for _, row in entailment.iterrows()]\n",
    "[print(createExample(row)) for _, row in neutral.iterrows()]\n",
    "[print(createExample(row)) for _, row in contradiction.iterrows()]"
   ]
  },
  {
   "attachments": {},
   "cell_type": "markdown",
   "id": "8b23ff04",
   "metadata": {},
   "source": [
    "Let's start by figuring out the inconsistncy bit"
   ]
  },
  {
   "cell_type": "code",
   "execution_count": 48,
   "id": "2b0ca484",
   "metadata": {},
   "outputs": [],
   "source": [
    "basePrompt = \"\"\"You are an expert analyst evaluating where claims are contradictions, entailments, or neutral with respect to a background. You are given a claim and a background. You must decide whether the claim is a contradiction, entailment, or neutral with respect to the background. You can use the claim and background.\n",
    "{\n",
    "\"Background\": \"The others gave in very soon , and longed to be friends , for now there was no Daisy to pet and cook for them ; no Nan to amuse and doctor them ; and , worst of all , no Mrs. Jo to make home life pleasant and life easy for them .<br>To their great affliction , Mrs. Jo seemed to consider herself one of the offended girls , for she hardly spoke to the outcasts , looked as if she did not see them when she passed , and was always too busy now to attend to their requests .\",\n",
    "\"Claim\": \"Nan was there to doctor them.\",\n",
    "\"Part of Claim in Background\": \"no Nan to amuse and doctor them\",\n",
    "\"Evaluation\": \"In the claim, Nan is there to doctor them. In the background, it is stated that there is no Nan to doctor them. This is inconsistent.\"\n",
    "\"Verdict\": \"Contradiction\"\n",
    "},\n",
    "{\n",
    "\"Background\": \"How to avoid eviction<br>Make timely payments. The easiest way to avoid eviction is to pay your rent on time. Read your lease to see if there is any grace period (such as three or five days).\",\n",
    "\"Claim\": \"most leases have grace periods for payment\",\n",
    "\"Part of Claim in Background\": \"if there is any grace period (such as three or five days)\",\n",
    "\"Evaluation\": \"In the claim, most leases have grace periods for payment. In the background, it is stated that there may be a grace period of three or five days. They neither contradict nor entail each other so it's neutral.\"\n",
    "\"Vedict\": \"Neutral\"\n",
    "},\n",
    "{\n",
    "\"Background\": \"At least 58 people are now dead as a result of the recent flooding in Yemen, and at least 20,000 in the country have no access to shelter. Five people are also reported missing. The Yemeni government has pledged to send tents to help the homeless. The flooding is caused by the recent heavy rain in Yemen, which came as a shock due to the fact that the country only receives several centimeters of rain per year.\",\n",
    "\"Claim\": \"Rising water levels in Yemen has resulted in people passing away\",\n",
    "\"Part of Claim in Background\": \"At least 58 people are now dead as a result of the recent flooding in Yemen\",\n",
    "\"Evaluation\": \"In the claim, rising water levels in Yemen has resulted in people passing away. In the background, it is stated that at least 58 people are now dead as a result of the recent flooding in Yemen. This entails the claim.\",\n",
    "\"Verdict\": \"Entailment\"\n",
    "},\n",
    "{\n",
    "\"Background\": \"I wonder how he expects us to put forward a strong position on these issues if we are not part of the World Trade Organization or if we were not in a position, with meetings like Seattle, where we can pull together different countries from around the world that have a similar position to ours.\",\n",
    "\"Claim\": \"there were never meetings in Seattle\",\n",
    "\"Part of Claim in Background\": \"with meetings like Seattle\",\n",
    "\"Evaluation\": \"In the claim, there were never meetings in Seattle. In the background, it is stated that there were meetings like Seattle. This is inconsistent.\",\n",
    "\"Verdict\": \"Contradiction\"\n",
    "},\n",
    "{\n",
    "\"Background\": \"Luciano Chailly (born Ferrara, January 19, 1920 – died Milan, December 24, 2002) was an Italian composer and arts administrator of French descent. He was the father of harpist Cecilia Chailly, conductor Riccardo Chailly and journalist Floriana Chailly. As a composer, Chailly was best known for his operas, many of which were composed to libretti by Dino Buzzati.\",\n",
    "\"Claim\": \"Luciano Chailly was born in January\",\n",
    "\"Part of Claim in Background\": \"January 19, 1920\",\n",
    "\"Evaluation\": \"In the claim, Luciano Chailly was born in January. In the background, it is stated that he was born on January 19, 1920. This entails the claim.\",\n",
    "\"Verdict\": \"Entailment\"\n",
    "},\n",
    "{\n",
    "\"Background\": \"Oil Vials<br>I purchased several vials of perfumed oils. I picked all sweet scents. They were very realistic, and I was quite pleased. I put some on first thing in the morning. My husband complimented me, as did everyone in the office that day.\",\n",
    "\"Claim\": \"The vials are large.\",\n",
    "\"Part of Claim in Background\": \"None\",\n",
    "\"Evaluation\": \"In the claim, the vials are large. In the background, there is no mention of the size of the vials. This is neutral.\",\n",
    "\"Verdict\": \"Neutral\"\n",
    "}\n",
    "\"\"\""
   ]
  },
  {
   "attachments": {},
   "cell_type": "markdown",
   "id": "4f185aa2",
   "metadata": {},
   "source": [
    "let's see if this works at all lol"
   ]
  },
  {
   "cell_type": "code",
   "execution_count": 45,
   "id": "e7732768",
   "metadata": {},
   "outputs": [],
   "source": [
    "eval = train[1000:1010].copy()\n"
   ]
  },
  {
   "cell_type": "code",
   "execution_count": 47,
   "id": "72f2a90b",
   "metadata": {},
   "outputs": [],
   "source": [
    "def createTargetExample(row):\n",
    "  return f\"\"\"{{\n",
    "    \"Background\": \"{row.context}\",\n",
    "    \"Claim\": \"{row.hypothesis}\",\n",
    "    \"Part of Claim in Background\":\"\"\""
   ]
  },
  {
   "cell_type": "code",
   "execution_count": 58,
   "id": "6060cb4b",
   "metadata": {},
   "outputs": [],
   "source": [
    "def evaluateAnswer(res):\n",
    "    if \"entailment\" in res.lower()[-30:]:\n",
    "        return 'e'\n",
    "    elif \"contradiction\" in res.lower()[-30:]:\n",
    "        return 'c'\n",
    "    return 'n'"
   ]
  },
  {
   "attachments": {},
   "cell_type": "markdown",
   "id": "5b9886b8",
   "metadata": {},
   "source": [
    "## regular davinci hurting here, i forget how I made it not bad before (I think I just ignored neutral?)"
   ]
  },
  {
   "cell_type": "code",
   "execution_count": 60,
   "id": "1ca1ed44",
   "metadata": {},
   "outputs": [
    {
     "name": "stdout",
     "output_type": "stream",
     "text": [
      "res:  \"Billy McKenzie beat Yorkshire's Alex Fitzpatrick 3&2\",\n",
      "    \"Evaluation\": \"In the claim, Billy McKenzie has never played Alex Fitzpatrick. In the background, it is stated that Billy McKenzie beat Alex Fitzpatrick 3&2. This entails the claim.\",\n",
      "    \"Verdict\": \"Entailment\"\n",
      "label:  c\n",
      "eval:  e\n",
      "Score: 0/1 (0.00%)\n",
      "res:  \"33\",\n",
      "    \"Evaluation\": \"In the claim, Ronaldo was more than 3 dozen years old at the time of this article. In the background, it is stated that Ronaldo is 33 years old. This entails the claim.\",\n",
      "    \"Verdict\": \"Entailment\"\n",
      "label:  c\n",
      "eval:  e\n",
      "Score: 0/2 (0.00%)\n",
      "res:  \"The winning numbers in Wednesday afternoon's drawing of the Dist. of Columbia Lottery's \"DC 5 Midday\" game were: 1-6-6-1-9 (one, six, six, one, nine)\",\n",
      "\"Evaluation\": \"In the claim, lottery is all skill. In the background, it is stated that the winning numbers in Wednesday afternoon's drawing of the Dist. of Columbia Lottery's \"DC 5 Midday\" game were: 1-6-6-1-9 (one, six, six, one, nine). This entails the claim.\",\n",
      "\"Verdict\": \"Entailment\"\n",
      "label:  c\n",
      "eval:  e\n",
      "Score: 0/3 (0.00%)\n",
      "res:  \"Google has more than sixteen letters.\",\n",
      "    \"Evaluation\": \"In the claim, Google has more than sixteen letters. In the background, it is stated that Google has more than sixteen letters. This entails the claim.\",\n",
      "    \"Verdict\": \"Entailment\"\n",
      "label:  c\n",
      "eval:  e\n",
      "Score: 0/4 (0.00%)\n",
      "res:  \"None\",\n",
      "    \"Evaluation\": \"In the claim, Podlesh sat the bench most of the time while on college. In the background, there is no mention of Podlesh sitting the bench most of the time while on college. This is neutral.\",\n",
      "\"Verdict\": \"Neutral\"\n",
      "label:  c\n",
      "eval:  n\n",
      "Score: 0/5 (0.00%)\n",
      "res:  \"mold is not the same color as US dollars\",\n",
      "    \"Evaluation\": \"In the claim, mold is not the same color as US dollars. In the background, it is stated that mold is not the same color as US dollars. This is inconsistent.\",\n",
      "\"Verdict\": \"Contradiction\"\n",
      "label:  c\n",
      "eval:  c\n",
      "Score: 1/6 (16.67%)\n",
      "res:  \"In the designation/memo space or online, please write \"Chappy Fund.\"\",\n",
      "    \"Evaluation\": \"In the claim, the family wants flowers donated to the Chappy Fund. In the background, it is stated that donations may be sent to the Chappy Fund. This entails the claim.\",\n",
      "    \"Verdict\": \"Entailment\"\n",
      "label:  c\n",
      "eval:  e\n",
      "Score: 1/7 (14.29%)\n",
      "res:  \"could save money\",\n",
      "    \"Evaluation\": \"In the claim, they thought getting another company to do the security would be very expensive. In the background, it is stated that the sheriff's office thought getting another company to do the security would be very expensive. This entails the claim.\",\n",
      "\"Verdict\": \"Entailment\"\n",
      "label:  c\n",
      "eval:  e\n",
      "Score: 1/8 (12.50%)\n",
      "res:  \"Australia beat South Africa by five wickets in a rain-affected second Twenty20 international reduced to seven overs a side in Durban on Wednesday to take a 1-0 lead in the three-match series.\",\n",
      "    \"Evaluation\": \"In the claim, Australia is going to play South Africa in a five-match series. In the background, it is stated that Australia beat South Africa by five wickets in a rain-affected second Twenty20 international reduced to seven overs a side in Durban on Wednesday to take a 1-0 lead in the three-match series. This entails the claim.\",\n",
      "    \"Verdict\": \"Entailment\"\n",
      "label:  c\n",
      "eval:  e\n",
      "Score: 1/9 (11.11%)\n",
      "res:  \"She resided in Lake County.\",\n",
      "    \"Evaluation\": \"In the claim, she resided in the Church of Latter Day Saints. In the background, it is stated that she resided in Lake County. This entails the claim.\",\n",
      "    \"Verdict\": \"Entailment\"\n",
      "label:  c\n",
      "eval:  e\n",
      "Score: 1/10 (10.00%)\n"
     ]
    }
   ],
   "source": [
    "results = {}\n",
    "completeCount = 0\n",
    "correctCount = 0\n",
    "\n",
    "\n",
    "for row in eval.iterrows():\n",
    "    newPrompt = basePrompt + createTargetExample(row[1])\n",
    "    res = query(newPrompt, stop=\"}\")\n",
    "    print('res: ', res)\n",
    "    print('label: ', row[1].label)\n",
    "    print('eval: ', evaluateAnswer(res))\n",
    "    results[row[0]] = {\n",
    "        \"res\": res,\n",
    "        \"label\": row[1].label,\n",
    "        \"pred\": evaluateAnswer(res)\n",
    "    }\n",
    "    completeCount += 1\n",
    "    if evaluateAnswer(res) == row[1].label:\n",
    "        correctCount += 1\n",
    "    \n",
    "    print (f\"Score: {correctCount}/{completeCount} ({correctCount/completeCount*100:.2f}%)\")"
   ]
  },
  {
   "attachments": {},
   "cell_type": "markdown",
   "id": "bcc57fd9",
   "metadata": {},
   "source": [
    "eh, for safety, I'll add 1 more of each"
   ]
  },
  {
   "cell_type": "code",
   "execution_count": 61,
   "id": "af5f1fd4",
   "metadata": {},
   "outputs": [],
   "source": [
    "# will grab 2 random neutral, entailment, and contradiction examples\n",
    "\n",
    "entailment = train[train.label==\"e\"].sample(1)\n",
    "neutral = train[train.label==\"n\"].sample(1)\n",
    "contradiction = train[train.label==\"c\"].sample(1)"
   ]
  },
  {
   "cell_type": "code",
   "execution_count": 62,
   "id": "c45cebdf",
   "metadata": {},
   "outputs": [
    {
     "name": "stdout",
     "output_type": "stream",
     "text": [
      "{\n",
      "    \"Background\": \"Segura had X-rays on his hand after getting hit by a pitch Friday against the Astros, Shannon Drayer of 710 ESPN Seattle reports. Segura was hit in the eighth inning but did not leave the game. He appears to have avoided a serious injury but is considered day-to-day.\",\n",
      "    \"Claim\": \"Segura was hit Friday.\",\n",
      "    \"Relationship\": \"entailment\"\n",
      "}\n",
      "{\n",
      "    \"Background\": \"London Calling is the third studio album by English punk rock band the Clash. It was released as a double album in the United Kingdom on 14 December 1979 by Columbia Records, and in the United States in January 1980 by Epic Records. \"London Calling\" is an album that incorporates a range of styles, including punk, reggae, rockabilly, ska, New Orleans R&B, pop, lounge jazz, and hard rock.\",\n",
      "    \"Claim\": \"Thanks to the rockabilly and R&B the album was released in the United States in 1980.\",\n",
      "    \"Relationship\": \"neutral\"\n",
      "}\n",
      "{\n",
      "    \"Background\": \"Grudge<br>Tom had a grudge against Ana. He decided he was going to slit her throat. Tom waited in the shadows by Ana's house. When he saw her red coat he lunged out, slicing and stabbing! Tom had only killed Ana's friend, who had borrowed her coat.\",\n",
      "    \"Claim\": \"Ana lost her coast\",\n",
      "    \"Relationship\": \"contradiction\"\n",
      "}\n"
     ]
    },
    {
     "data": {
      "text/plain": [
       "[None]"
      ]
     },
     "execution_count": 62,
     "metadata": {},
     "output_type": "execute_result"
    }
   ],
   "source": [
    "[print(createExample(row)) for _, row in entailment.iterrows()]\n",
    "[print(createExample(row)) for _, row in neutral.iterrows()]\n",
    "[print(createExample(row)) for _, row in contradiction.iterrows()]"
   ]
  },
  {
   "cell_type": "code",
   "execution_count": 76,
   "id": "5664e540",
   "metadata": {},
   "outputs": [],
   "source": [
    "basePrompt = \"\"\"You are an expert analyst evaluating where claims are contradictions, entailments, or neutral with respect to a background. You are given a claim and a background. You must decide whether the claim is a contradiction, entailment, or neutral with respect to the background. You can use the claim and background.\n",
    "{\n",
    "\"Background\": \"The others gave in very soon , and longed to be friends , for now there was no Daisy to pet and cook for them ; no Nan to amuse and doctor them ; and , worst of all , no Mrs. Jo to make home life pleasant and life easy for them .<br>To their great affliction , Mrs. Jo seemed to consider herself one of the offended girls , for she hardly spoke to the outcasts , looked as if she did not see them when she passed , and was always too busy now to attend to their requests .\",\n",
    "\"Claim\": \"Nan was there to doctor them.\",\n",
    "\"Part of Claim in Background\": \"no Nan to amuse and doctor them\",\n",
    "\"Evaluation\": \"In the claim, Nan is there to doctor them. In the background, it is stated that there is no Nan to doctor them. This is inconsistent.\"\n",
    "\"Verdict\": \"Contradiction\"\n",
    "},\n",
    "{\n",
    "\"Background\": \"How to avoid eviction<br>Make timely payments. The easiest way to avoid eviction is to pay your rent on time. Read your lease to see if there is any grace period (such as three or five days).\",\n",
    "\"Claim\": \"most leases have grace periods for payment\",\n",
    "\"Part of Claim in Background\": \"if there is any grace period (such as three or five days)\",\n",
    "\"Evaluation\": \"In the claim, most leases have grace periods for payment. In the background, it is stated that there may be a grace period of three or five days. They neither contradict nor entail each other so it's neutral.\"\n",
    "\"Vedict\": \"Neutral\"\n",
    "},\n",
    "{\n",
    "\"Background\": \"At least 58 people are now dead as a result of the recent flooding in Yemen, and at least 20,000 in the country have no access to shelter. Five people are also reported missing. The Yemeni government has pledged to send tents to help the homeless. The flooding is caused by the recent heavy rain in Yemen, which came as a shock due to the fact that the country only receives several centimeters of rain per year.\",\n",
    "\"Claim\": \"Rising water levels in Yemen has resulted in people passing away\",\n",
    "\"Part of Claim in Background\": \"At least 58 people are now dead as a result of the recent flooding in Yemen\",\n",
    "\"Evaluation\": \"In the claim, rising water levels in Yemen has resulted in people passing away. In the background, it is stated that at least 58 people are now dead as a result of the recent flooding in Yemen. This entails the claim.\",\n",
    "\"Verdict\": \"Entailment\"\n",
    "},\n",
    "{\n",
    "\"Background\": \"I wonder how he expects us to put forward a strong position on these issues if we are not part of the World Trade Organization or if we were not in a position, with meetings like Seattle, where we can pull together different countries from around the world that have a similar position to ours.\",\n",
    "\"Claim\": \"there were never meetings in Seattle\",\n",
    "\"Part of Claim in Background\": \"with meetings like Seattle\",\n",
    "\"Evaluation\": \"In the claim, there were never meetings in Seattle. In the background, it is stated that there were meetings like Seattle. This is inconsistent.\",\n",
    "\"Verdict\": \"Contradiction\"\n",
    "},\n",
    "{\n",
    "\"Background\": \"Luciano Chailly (born Ferrara, January 19, 1920 – died Milan, December 24, 2002) was an Italian composer and arts administrator of French descent. He was the father of harpist Cecilia Chailly, conductor Riccardo Chailly and journalist Floriana Chailly. As a composer, Chailly was best known for his operas, many of which were composed to libretti by Dino Buzzati.\",\n",
    "\"Claim\": \"Luciano Chailly was born in January\",\n",
    "\"Part of Claim in Background\": \"January 19, 1920\",\n",
    "\"Evaluation\": \"In the claim, Luciano Chailly was born in January. In the background, it is stated that he was born on January 19, 1920. This entails the claim.\",\n",
    "\"Verdict\": \"Entailment\"\n",
    "},\n",
    "{\n",
    "\"Background\": \"Oil Vials<br>I purchased several vials of perfumed oils. I picked all sweet scents. They were very realistic, and I was quite pleased. I put some on first thing in the morning. My husband complimented me, as did everyone in the office that day.\",\n",
    "\"Claim\": \"The vials are large.\",\n",
    "\"Part of Claim in Background\": \"None\",\n",
    "\"Evaluation\": \"In the claim, the vials are large. In the background, there is no mention of the size of the vials. This is neutral.\",\n",
    "\"Verdict\": \"Neutral\"\n",
    "},\n",
    "{\n",
    "\"Background\": \"Segura had X-rays on his hand after getting hit by a pitch Friday against the Astros, Shannon Drayer of 710 ESPN Seattle reports. Segura was hit in the eighth inning but did not leave the game. He appears to have avoided a serious injury but is considered day-to-day.\",\n",
    "\"Claim\": \"Segura was hit Friday.,\n",
    "\"Part of Claim in Background\": \"Friday against the Astros\",\n",
    "\"Evaluation\": \"In the claim, Segura was hit Friday. In the background, it is stated that he was hit Friday against the Astros. This entails the claim.\",\n",
    "\"Verdict\": \"Entailment\"\n",
    "},\n",
    "{\n",
    "\"Background\": \"Grudge<br>Tom had a grudge against Ana. He decided he was going to slit her throat. Tom waited in the shadows by Ana's house. When he saw her red coat he lunged out, slicing and stabbing! Tom had only killed Ana's friend, who had borrowed her coat.\",\n",
    "\"Claim\": \"Ana lost her coast\",\n",
    "\"Part of Claim in Background\": \"Ana's friend, who had borrowed her coat\",\n",
    "\"Evaluation\": \"In the claim, Ana lost her coast. In the background, it is stated that Ana's friend had borrowed her coat. This is inconsistent.\",\n",
    "\"Verdict\": \"Contradiction\"\n",
    "},\n",
    "{\n",
    "\"Background\": \"London Calling is the third studio album by English punk rock band the Clash. It was released as a double album in the United Kingdom on 14 December 1979 by Columbia Records, and in the United States in January 1980 by Epic Records. \"London Calling\" is an album that incorporates a range of styles, including punk, reggae, rockabilly, ska, New Orleans R&B, pop, lounge jazz, and hard rock.\",\n",
    "\"Claim\": \"Thanks to the rockabilly and R&B the album was released in the United States in 1980.\",\n",
    "\"Part of Claim in Background\": \"in the United States in January 1980 by Epic Records\",\n",
    "\"Evaluation\": \"In the claim, the album was released in the United States in 1980. In the background, it is stated that it was released in the United States in January 1980 by Epic Records. They neither contradict nor entail each other so it's neutral.\"\n",
    "\"Verdict\": \"Neutral\"\n",
    "}\n",
    "\"\"\""
   ]
  },
  {
   "attachments": {},
   "cell_type": "markdown",
   "id": "72067473",
   "metadata": {},
   "source": [
    "## alright, not great, but let's see if this 9 shot works at all (not feeling great)"
   ]
  },
  {
   "cell_type": "code",
   "execution_count": 77,
   "id": "548c6f70",
   "metadata": {},
   "outputs": [
    {
     "name": "stdout",
     "output_type": "stream",
     "text": [
      "res:  \"alex fitzpatrick\",\n",
      "    \"Evaluation\": \"In the claim, Billy McKenzie has never played Alex Fitzpatrick. In the background, it is stated that Billy McKenzie beat Alex Fitzpatrick. This is inconsistent.\",\n",
      "    \"Verdict\": \"Contradiction\"\n",
      "label:  c\n",
      "eval:  c\n",
      "Score: 1/1 (100.00%)\n",
      "res:  \"33, is reaching the latter stages of his career\",\n",
      "    \"Evaluation\": \"In the claim, Ronaldo was more than 3 dozen years old at the time of this article. In the background, it is stated that Ronaldo is 33 years old. This entails the claim.\",\n",
      "    \"Verdict\": \"Entailment\"\n",
      "label:  c\n",
      "eval:  e\n",
      "Score: 1/2 (50.00%)\n",
      "res:  \"The winning numbers in Wednesday afternoon's drawing of the Dist. of Columbia Lottery's \"DC 5 Midday\" game were: 1-6-6-1-9 (one, six, six, one, nine)\",\n",
      "    \"Evaluation\": \"In the claim, lottery is all skill. In the background, it is stated that the winning numbers in Wednesday afternoon's drawing of the Dist. of Columbia Lottery's \"DC 5 Midday\" game were: 1-6-6-1-9 (one, six, six, one, nine). This entails the claim.\",\n",
      "    \"Verdict\": \"Entailment\"\n",
      "label:  c\n",
      "eval:  e\n",
      "Score: 1/3 (33.33%)\n",
      "res:  \"Google has more than sixteen letters.\",\n",
      "    \"Evaluation\": \"In the claim, Google has more than sixteen letters. In the background, it is stated that Google has more than sixteen letters. This entails the claim.\",\n",
      "    \"Verdict\": \"Entailment\"\n",
      "label:  c\n",
      "eval:  e\n",
      "Score: 1/4 (25.00%)\n",
      "res:  \"None\",\n",
      "    \"Evaluation\": \"In the claim, Podlesh sat the bench most of the time while on college. In the background, it is stated that Podlesh was a standout player at Pittsford before going on to punt for the University of Maryland and in the NFL. This entails the claim.\",\n",
      "    \"Verdict\": \"Entailment\"\n",
      "label:  c\n",
      "eval:  e\n",
      "Score: 1/5 (20.00%)\n",
      "res:  \"mold is not the same color as US dollars\",\n",
      "    \"Evaluation\": \"In the claim, mold is not the same color as US dollars. In the background, it is stated that mold is not the same color as US dollars. This is inconsistent.\",\n",
      "    \"Verdict\": \"Contradiction\"\n",
      "label:  c\n",
      "eval:  c\n",
      "Score: 2/6 (33.33%)\n",
      "res:  \"In the designation/memo space or online, please write \"Chappy Fund.\"\",\n",
      "    \"Evaluation\": \"In the claim, the family wants flowers donated to the Chappy Fund. In the background, it is stated that the family wants flowers donated to the Chappy Fund. This entails the claim.\",\n",
      "    \"Verdict\": \"Entailment\"\n",
      "label:  c\n",
      "eval:  e\n",
      "Score: 2/7 (28.57%)\n",
      "res:  \"to do the work could save money.\",\n",
      "    \"Evaluation\": \"In the claim, they thought getting another company to do the security would be very expensive. In the background, it is stated that the sheriff's office thought getting another company to do the work could save money. This entails the claim.\",\n",
      "    \"Verdict\": \"Entailment\"\n",
      "label:  c\n",
      "eval:  e\n",
      "Score: 2/8 (25.00%)\n",
      "res:  \"Australia beat South Africa by five wickets in a rain-affected second Twenty20 international reduced to seven overs a side in Durban on Wednesday to take a 1-0 lead in the three-match series.\",\n",
      "    \"Evaluation\": \"In the claim, Australia is going to play South Africa in a five-match series. In the background, it is stated that Australia beat South Africa by five wickets in a rain-affected second Twenty20 international reduced to seven overs a side in Durban on Wednesday to take a 1-0 lead in the three-match series. This entails the claim.\",\n",
      "    \"Verdict\": \"Entailment\"\n",
      "label:  c\n",
      "eval:  e\n",
      "Score: 2/9 (22.22%)\n",
      "res:  \"She resided in Lake County.\",\n",
      "    \"Evaluation\": \"In the claim, she resided in the Church of Latter Day Saints. In the background, it is stated that she resided in Lake County. This entails the claim.\",\n",
      "\"Verdict\": \"Entailment\"\n",
      "label:  c\n",
      "eval:  e\n",
      "Score: 2/10 (20.00%)\n"
     ]
    }
   ],
   "source": [
    "results = {}\n",
    "completeCount = 0\n",
    "correctCount = 0\n",
    "\n",
    "\n",
    "for row in eval.iterrows():\n",
    "    newPrompt = basePrompt + createTargetExample(row[1])\n",
    "    res = query(newPrompt, stop=\"}\")\n",
    "    print('res: ', res)\n",
    "    print('label: ', row[1].label)\n",
    "    print('eval: ', evaluateAnswer(res))\n",
    "    results[row[0]] = {\n",
    "        \"res\": res,\n",
    "        \"label\": row[1].label,\n",
    "        \"pred\": evaluateAnswer(res)\n",
    "    }\n",
    "    completeCount += 1\n",
    "    if evaluateAnswer(res) == row[1].label:\n",
    "        correctCount += 1\n",
    "    \n",
    "    print (f\"Score: {correctCount}/{completeCount} ({correctCount/completeCount*100:.2f}%)\")"
   ]
  },
  {
   "cell_type": "code",
   "execution_count": 78,
   "id": "ad12b087",
   "metadata": {},
   "outputs": [],
   "source": [
    "dev = pd.read_json(\"anli_v1.0/R3/dev.jsonl\",lines=True)"
   ]
  },
  {
   "cell_type": "code",
   "execution_count": 79,
   "id": "2d69e03e",
   "metadata": {},
   "outputs": [
    {
     "data": {
      "text/html": [
       "<div>\n",
       "<style scoped>\n",
       "    .dataframe tbody tr th:only-of-type {\n",
       "        vertical-align: middle;\n",
       "    }\n",
       "\n",
       "    .dataframe tbody tr th {\n",
       "        vertical-align: top;\n",
       "    }\n",
       "\n",
       "    .dataframe thead th {\n",
       "        text-align: right;\n",
       "    }\n",
       "</style>\n",
       "<table border=\"1\" class=\"dataframe\">\n",
       "  <thead>\n",
       "    <tr style=\"text-align: right;\">\n",
       "      <th></th>\n",
       "      <th>uid</th>\n",
       "      <th>context</th>\n",
       "      <th>hypothesis</th>\n",
       "      <th>label</th>\n",
       "      <th>model_label</th>\n",
       "      <th>emturk</th>\n",
       "      <th>genre</th>\n",
       "      <th>reason</th>\n",
       "      <th>tag</th>\n",
       "    </tr>\n",
       "  </thead>\n",
       "  <tbody>\n",
       "    <tr>\n",
       "      <th>0</th>\n",
       "      <td>50a5d4bc-bb8b-44f9-ba07-95dfaf5536ab</td>\n",
       "      <td>one of the orders issued by Ochola in April Lo...</td>\n",
       "      <td>The decision to move the photocopier business ...</td>\n",
       "      <td>e</td>\n",
       "      <td>n</td>\n",
       "      <td>False</td>\n",
       "      <td>news</td>\n",
       "      <td>I made an obvious inference from the text that...</td>\n",
       "      <td>r3_dev</td>\n",
       "    </tr>\n",
       "    <tr>\n",
       "      <th>1</th>\n",
       "      <td>08789750-b5fe-478d-8d3f-06a01e3a8b1e</td>\n",
       "      <td>If you can dream it, you can achieve it — unle...</td>\n",
       "      <td>The crowd believed they knew the name of the g...</td>\n",
       "      <td>e</td>\n",
       "      <td>n</td>\n",
       "      <td>False</td>\n",
       "      <td>news</td>\n",
       "      <td>Because the crowd was chanting its name, the c...</td>\n",
       "      <td>r3_dev</td>\n",
       "    </tr>\n",
       "    <tr>\n",
       "      <th>2</th>\n",
       "      <td>a960c8cc-2f55-4269-a028-7f714479b068</td>\n",
       "      <td>The Kremlin described as \"complete nonsense\" o...</td>\n",
       "      <td>The Kremlin used the word nonsense multiple ti...</td>\n",
       "      <td>e</td>\n",
       "      <td>n</td>\n",
       "      <td>False</td>\n",
       "      <td>news</td>\n",
       "      <td>I based my statement on supposed word count ba...</td>\n",
       "      <td>r3_dev</td>\n",
       "    </tr>\n",
       "    <tr>\n",
       "      <th>3</th>\n",
       "      <td>95e97907-0267-45ae-89fc-7e1fce39ee77</td>\n",
       "      <td>Police said that a 21-year-old man was discove...</td>\n",
       "      <td>The victim was less than a quarter century old</td>\n",
       "      <td>e</td>\n",
       "      <td>c</td>\n",
       "      <td>False</td>\n",
       "      <td>news</td>\n",
       "      <td>21 is less than 25. I think the system got it ...</td>\n",
       "      <td>r3_dev</td>\n",
       "    </tr>\n",
       "    <tr>\n",
       "      <th>4</th>\n",
       "      <td>5bd3435a-e52e-4688-9bc3-746b47c53469</td>\n",
       "      <td>Hurricane Harvey has caused devastating floods...</td>\n",
       "      <td>Houston is not the only area impacted by Hurri...</td>\n",
       "      <td>e</td>\n",
       "      <td>n</td>\n",
       "      <td>False</td>\n",
       "      <td>news</td>\n",
       "      <td>Louisiana was also impacted</td>\n",
       "      <td>r3_dev</td>\n",
       "    </tr>\n",
       "  </tbody>\n",
       "</table>\n",
       "</div>"
      ],
      "text/plain": [
       "                                    uid  \\\n",
       "0  50a5d4bc-bb8b-44f9-ba07-95dfaf5536ab   \n",
       "1  08789750-b5fe-478d-8d3f-06a01e3a8b1e   \n",
       "2  a960c8cc-2f55-4269-a028-7f714479b068   \n",
       "3  95e97907-0267-45ae-89fc-7e1fce39ee77   \n",
       "4  5bd3435a-e52e-4688-9bc3-746b47c53469   \n",
       "\n",
       "                                             context  \\\n",
       "0  one of the orders issued by Ochola in April Lo...   \n",
       "1  If you can dream it, you can achieve it — unle...   \n",
       "2  The Kremlin described as \"complete nonsense\" o...   \n",
       "3  Police said that a 21-year-old man was discove...   \n",
       "4  Hurricane Harvey has caused devastating floods...   \n",
       "\n",
       "                                          hypothesis label model_label  \\\n",
       "0  The decision to move the photocopier business ...     e           n   \n",
       "1  The crowd believed they knew the name of the g...     e           n   \n",
       "2  The Kremlin used the word nonsense multiple ti...     e           n   \n",
       "3     The victim was less than a quarter century old     e           c   \n",
       "4  Houston is not the only area impacted by Hurri...     e           n   \n",
       "\n",
       "   emturk genre                                             reason     tag  \n",
       "0   False  news  I made an obvious inference from the text that...  r3_dev  \n",
       "1   False  news  Because the crowd was chanting its name, the c...  r3_dev  \n",
       "2   False  news  I based my statement on supposed word count ba...  r3_dev  \n",
       "3   False  news  21 is less than 25. I think the system got it ...  r3_dev  \n",
       "4   False  news                        Louisiana was also impacted  r3_dev  "
      ]
     },
     "execution_count": 79,
     "metadata": {},
     "output_type": "execute_result"
    }
   ],
   "source": [
    "dev.head()"
   ]
  },
  {
   "cell_type": "code",
   "execution_count": 82,
   "id": "c31fddc1",
   "metadata": {},
   "outputs": [],
   "source": [
    "results_dict = {}\n",
    "correct = 0\n",
    "done = 0"
   ]
  },
  {
   "cell_type": "code",
   "execution_count": 83,
   "id": "d0a1929b",
   "metadata": {},
   "outputs": [
    {
     "name": "stdout",
     "output_type": "stream",
     "text": [
      "Done 1 of 1200. Score: 1/1 (100.00%)\n",
      "Done 2 of 1200. Score: 2/2 (100.00%)\n",
      "Done 3 of 1200. Score: 3/3 (100.00%)\n",
      "Done 4 of 1200. Score: 4/4 (100.00%)\n",
      "Done 5 of 1200. Score: 4/5 (80.00%)\n",
      "Done 6 of 1200. Score: 5/6 (83.33%)\n",
      "Done 7 of 1200. Score: 6/7 (85.71%)\n",
      "Done 8 of 1200. Score: 6/8 (75.00%)\n",
      "Done 9 of 1200. Score: 6/9 (66.67%)\n",
      "Done 10 of 1200. Score: 7/10 (70.00%)\n",
      "Done 11 of 1200. Score: 8/11 (72.73%)\n",
      "Done 12 of 1200. Score: 9/12 (75.00%)\n",
      "Done 13 of 1200. Score: 10/13 (76.92%)\n",
      "Done 14 of 1200. Score: 11/14 (78.57%)\n",
      "Done 15 of 1200. Score: 12/15 (80.00%)\n",
      "Done 16 of 1200. Score: 13/16 (81.25%)\n",
      "Done 17 of 1200. Score: 14/17 (82.35%)\n",
      "Done 18 of 1200. Score: 15/18 (83.33%)\n",
      "Done 19 of 1200. Score: 16/19 (84.21%)\n",
      "Done 20 of 1200. Score: 17/20 (85.00%)\n",
      "Done 21 of 1200. Score: 18/21 (85.71%)\n",
      "Done 22 of 1200. Score: 19/22 (86.36%)\n",
      "Done 23 of 1200. Score: 20/23 (86.96%)\n",
      "Done 24 of 1200. Score: 21/24 (87.50%)\n",
      "Done 25 of 1200. Score: 22/25 (88.00%)\n",
      "Done 26 of 1200. Score: 23/26 (88.46%)\n",
      "Done 27 of 1200. Score: 24/27 (88.89%)\n",
      "Done 28 of 1200. Score: 25/28 (89.29%)\n",
      "Done 29 of 1200. Score: 25/29 (86.21%)\n",
      "Done 30 of 1200. Score: 26/30 (86.67%)\n",
      "Done 31 of 1200. Score: 27/31 (87.10%)\n",
      "Done 32 of 1200. Score: 28/32 (87.50%)\n",
      "Done 33 of 1200. Score: 29/33 (87.88%)\n",
      "Done 34 of 1200. Score: 30/34 (88.24%)\n",
      "Done 35 of 1200. Score: 31/35 (88.57%)\n",
      "Done 36 of 1200. Score: 32/36 (88.89%)\n",
      "Done 37 of 1200. Score: 33/37 (89.19%)\n",
      "Done 38 of 1200. Score: 34/38 (89.47%)\n",
      "Done 39 of 1200. Score: 34/39 (87.18%)\n",
      "Done 40 of 1200. Score: 34/40 (85.00%)\n",
      "Done 41 of 1200. Score: 34/41 (82.93%)\n",
      "Done 42 of 1200. Score: 34/42 (80.95%)\n",
      "Done 43 of 1200. Score: 34/43 (79.07%)\n",
      "Done 44 of 1200. Score: 34/44 (77.27%)\n",
      "Done 45 of 1200. Score: 34/45 (75.56%)\n",
      "Done 46 of 1200. Score: 34/46 (73.91%)\n",
      "Done 47 of 1200. Score: 34/47 (72.34%)\n"
     ]
    }
   ],
   "source": [
    "\n",
    "for row in dev.iterrows():\n",
    "    if row[0] in results_dict:\n",
    "        continue\n",
    "    newPrompt = basePrompt + createTargetExample(row[1])\n",
    "    res = query(newPrompt, stop=\"}\")\n",
    "    results_dict[row[0]] = {\n",
    "        \"res\": res,\n",
    "        \"label\": row[1].label,\n",
    "        \"pred\": evaluateAnswer(res)\n",
    "    }\n",
    "    done += 1\n",
    "    if evaluateAnswer(res) == row[1].label:\n",
    "        correct += 1\n",
    "    print(f\"Done {done} of {len(dev)}. Score: {correct}/{done} ({correct/done*100:.2f}%)\")"
   ]
  },
  {
   "cell_type": "code",
   "execution_count": null,
   "id": "1e20dece",
   "metadata": {},
   "outputs": [],
   "source": []
  }
 ],
 "metadata": {
  "kernelspec": {
   "display_name": "Python 3 (ipykernel)",
   "language": "python",
   "name": "python3"
  },
  "language_info": {
   "codemirror_mode": {
    "name": "ipython",
    "version": 3
   },
   "file_extension": ".py",
   "mimetype": "text/x-python",
   "name": "python",
   "nbconvert_exporter": "python",
   "pygments_lexer": "ipython3",
   "version": "3.9.12"
  }
 },
 "nbformat": 4,
 "nbformat_minor": 5
}
