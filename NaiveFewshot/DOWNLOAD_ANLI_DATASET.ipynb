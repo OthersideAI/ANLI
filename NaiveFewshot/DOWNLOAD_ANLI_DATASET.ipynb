{
 "cells": [
  {
   "cell_type": "code",
   "execution_count": null,
   "id": "2e145b93",
   "metadata": {},
   "outputs": [],
   "source": [
    "!wget https://dl.fbaipublicfiles.com/anli/anli_v1.0.zip\n"
   ]
  },
  {
   "cell_type": "code",
   "execution_count": 1,
   "id": "f428f63a",
   "metadata": {},
   "outputs": [],
   "source": [
    "import zipfile\n",
    "with zipfile.ZipFile(\"anli_v1.0.zip\",\"r\") as zip_ref:\n",
    "    zip_ref.extractall(\".\")\n"
   ]
  },
  {
   "cell_type": "code",
   "execution_count": 2,
   "id": "c5e7d372",
   "metadata": {},
   "outputs": [
    {
     "name": "stdout",
     "output_type": "stream",
     "text": [
      "dev.jsonl    test.jsonl   train.jsonl\n"
     ]
    }
   ],
   "source": [
    "ls anli_v1.0/R1\n"
   ]
  },
  {
   "cell_type": "code",
   "execution_count": null,
   "id": "643fc6a9",
   "metadata": {},
   "outputs": [],
   "source": []
  },
  {
   "cell_type": "code",
   "execution_count": null,
   "id": "ae92806e",
   "metadata": {},
   "outputs": [],
   "source": []
  }
 ],
 "metadata": {
  "kernelspec": {
   "display_name": "Python 3 (ipykernel)",
   "language": "python",
   "name": "python3"
  },
  "language_info": {
   "codemirror_mode": {
    "name": "ipython",
    "version": 3
   },
   "file_extension": ".py",
   "mimetype": "text/x-python",
   "name": "python",
   "nbconvert_exporter": "python",
   "pygments_lexer": "ipython3",
   "version": "3.9.12"
  }
 },
 "nbformat": 4,
 "nbformat_minor": 5
}
